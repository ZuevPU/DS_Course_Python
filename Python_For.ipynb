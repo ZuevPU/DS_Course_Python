
{
 "cells": [
  {
   "cell_type": "markdown",
   "metadata": {},
   "source": [
    "# Инструкция for"
   ]
  },
  {
   "cell_type": "markdown",
   "metadata": {},
   "source": [
    "Она применяется в тех случаях, когда в программе какие-то действия (инструкции) повторяются и при этом некоторая величина меняется с постоянным шагом."
   ]
  },
  {
   "cell_type": "markdown",
   "metadata": {},
   "source": [
    "### Задание 1. <br>\n",
    "Вывода «столбиком» всех целых чисел от 10 до 20:"
   ]
  },
  {
   "cell_type": "code",
   "execution_count": 1,
   "metadata": {
    "scrolled": true
   },
   "outputs": [
    {
     "name": "stdout",
     "output_type": "stream",
     "text": [
      "10\n",
      "11\n",
      "20\n"
     ]
    }
   ],
   "source": [
    "print(10)\n",
    "print(11)\n",
    "\n",
    "print(20)"
   ]
  },
  {
   "cell_type": "markdown",
   "metadata": {},
   "source": [
    "Общий вид этой инструкции:"
   ]
  },
  {
   "cell_type": "code",
   "execution_count": null,
   "metadata": {},
   "outputs": [],
   "source": [
    "for <параметр инструкции> in <набор значений>:\n",
    "    <тело инструкции> #Записывается с отступом"
   ]
  },
  {
   "cell_type": "markdown",
   "metadata": {},
   "source": [
    "где <br>\n",
    "<тело инструкции> – действия, повторяющиеся при работе инструкции (это могут быть любые инструкции Python); <br>\n",
    "<параметр инструкции> – имя величины, меняющейся при повторении действий;<br>\n",
    "<набор значений> – набор значений параметра инструкции, для которых проводится повторение."
   ]
  },
  {
   "cell_type": "markdown",
   "metadata": {},
   "source": [
    "Функция range() возвращает набор целых чисел, образующих арифметическую прогрессию. <br>Например, если нужно получить числа\n",
    "0, 1, 2, …, 6, то следует так оформить вызов функции:"
   ]
  },
  {
   "cell_type": "code",
   "execution_count": 4,
   "metadata": {},
   "outputs": [
    {
     "data": {
      "text/plain": [
       "range(0, 6)"
      ]
     },
     "execution_count": 4,
     "metadata": {},
     "output_type": "execute_result"
    }
   ],
   "source": [
    "range(6)"
   ]
  },
  {
   "cell_type": "markdown",
   "metadata": {},
   "source": [
    "Задание 1. Решение."
   ]
  },
  {
   "cell_type": "code",
   "execution_count": 16,
   "metadata": {},
   "outputs": [
    {
     "name": "stdout",
     "output_type": "stream",
     "text": [
      "10\n",
      "11\n",
      "12\n",
      "13\n",
      "14\n",
      "15\n",
      "16\n",
      "17\n",
      "18\n",
      "19\n",
      "20\n"
     ]
    }
   ],
   "source": [
    "for a in range(10, 21):\n",
    "    print(a)"
   ]
  },
  {
   "cell_type": "markdown",
   "metadata": {},
   "source": [
    "### Задание 2. <br>\n",
    "Пусть нужно рассчитать и вывести «столбиком» квадраты всех целых чисел от 50 до 60.<br>\n",
    "Без использования инструкции for в программе потребовалось бы записать:"
   ]
  },
  {
   "cell_type": "code",
   "execution_count": 17,
   "metadata": {},
   "outputs": [
    {
     "name": "stdout",
     "output_type": "stream",
     "text": [
      "2500\n",
      "2601\n",
      "3600\n"
     ]
    }
   ],
   "source": [
    "kv = 50 * 50 #Или kv = 50 ** 2\n",
    "print(kv)\n",
    "kv = 51 * 51 #Или kv = 51 ** 2\n",
    "print(kv)\n",
    "...\n",
    "kv = 60 * 60 #Или kv = 60 ** 2\n",
    "print(kv)"
   ]
  },
  {
   "cell_type": "markdown",
   "metadata": {},
   "source": [
    "C использование инструкции for"
   ]
  },
  {
   "cell_type": "code",
   "execution_count": 15,
   "metadata": {},
   "outputs": [
    {
     "name": "stdout",
     "output_type": "stream",
     "text": [
      "2500\n",
      "2601\n",
      "2704\n",
      "2809\n",
      "2916\n",
      "3025\n",
      "3136\n",
      "3249\n",
      "3364\n",
      "3481\n",
      "3600\n"
     ]
    }
   ],
   "source": [
    "for n in range(50, 61):\n",
    "    print(n * n) #Или print(n ** 2)"
   ]
  },
  {
   "cell_type": "markdown",
   "metadata": {},
   "source": [
    "В теле инструкции for можно записывать любые другие инструкции, например if:"
   ]
  },
  {
   "cell_type": "code",
   "execution_count": 47,
   "metadata": {},
   "outputs": [
    {
     "name": "stdout",
     "output_type": "stream",
     "text": [
      "5\n",
      "15\n",
      "25\n",
      "35\n",
      "45\n",
      "55\n",
      "65\n",
      "75\n",
      "85\n",
      "95\n"
     ]
    }
   ],
   "source": [
    "for a in range(101):\n",
    "    if a % 10 == 5:\n",
    "        print(a)\n",
    "# Какое действие выполняет данная программа? "
   ]
  },
  {
   "cell_type": "markdown",
   "metadata": {},
   "source": [
    "### Задание 3. <br>\n",
    "«Определить сумму всех чисел от 1 до 100»"
   ]
  },
  {
   "cell_type": "code",
   "execution_count": 41,
   "metadata": {},
   "outputs": [
    {
     "name": "stdout",
     "output_type": "stream",
     "text": [
      "5050\n"
     ]
    }
   ],
   "source": [
    "sum = 0 #Начальное значение переменной-сумматора\n",
    "for n in range(1, 101):\n",
    "    sum = sum + n\n",
    "print(sum)"
   ]
  },
  {
   "cell_type": "markdown",
   "metadata": {},
   "source": [
    "### Задание 4.<br> \n",
    "«Определить сумму всех чисел от 1 до 100 кратных 3»"
   ]
  },
  {
   "cell_type": "code",
   "execution_count": 42,
   "metadata": {},
   "outputs": [
    {
     "name": "stdout",
     "output_type": "stream",
     "text": [
      "1683\n"
     ]
    }
   ],
   "source": [
    "sum = 0 #Начальное значение переменной-сумматора\n",
    "for n in range(1, 101):\n",
    "    if n % 3 == 0:\n",
    "        sum = sum + n\n",
    "print(sum)"
   ]
  },
  {
   "cell_type": "markdown",
   "metadata": {},
   "source": [
    "### Контрольные вопросы\n",
    "1. Что такое «цикл»?<br>\n",
    "2. В каких случаях используют инструкцию for? Каков ее общий вид?<br>\n",
    "3. Что такое «параметр инструкции for»? Что такое «тело инструкции»? Что может быть использовано в качестве параметра инструкции for?<br>\n",
    "4. Как должна быть оформлена функция range(), если действия в теле инструкции for должны выполняться для всех значений:<br>\n",
    "а) от 0 до n (n > 0) с шагом, равным 1;<br>\n",
    "б) от 4 до k (k > 4) с шагом, равным 1;<br>\n",
    "в) от 19 до 0 с шагом, равным –1;<br>\n",
    "г) от 18 до 8 с шагом, равным –1.<br>\n",
    "5. Может ли тело инструкции for с функцией range() при шаге изменения параметра, равном 1, не выполниться ни разу?<br>\n",
    "6. Сколько раз будет выполняться тело инструкции for со следующим «заголовком»:<br>\n",
    "• for а in range(1, 10):<br>\n",
    "• for b in range(10, 20):<br>\n",
    "• for i in range(n, m): #(m ≥ n)<br>"
   ]
  },
  {
   "cell_type": "markdown",
   "metadata": {},
   "source": [
    "### Задания для самостоятельной работы: <br>\n",
    "Задача 1. Подсчитать сумму всех четных чисел от 1 до 100.<br>\n",
    "Задача 2. Подсчитать сумму всех нечетных чисел от 1 до 100.<br>\n",
    "Задача 3. Подсчитать сумму всех чисел, оканчивающихся на 3.<br>\n",
    "Задача 4. Напечатать «столбиком» кубы всех целых чисел от 10 до b (значение b вводится с клавиатуры; b ≥ 10).<br>\n",
    "Задача 5. Напечатать таблицу соответствия между массой в фунтах и массой в килограммах для значений 1, 2, ..., 10 фунтов (1 фунт = 453 г).<br>\n",
    "Задача 6. Напечатать таблицу умножения на 7.<br>\n",
    "Задача 7. Напечатать все нечетные двузначные числа, у которых последняя цифра равна 3 или 7.<br>\n",
    "Задача 8. Напечатать все целые числа от a до b, кратные некоторому числу c.<br>\n",
    "Задача 9. Напечатать все двузначные числа, сумма квадратов цифр которых делится на 13.<br>\n",
    "Задача 10. Определить сумму всех четных трехзначных чисел.<br>\n",
    "Задача  11. Определить количество трехзначных чисел, сумма цифр которых равна некоторому значению s.<br>\n",
    "Задача  12. Определить количество всех трехзначных чисел, кратных семи и у которых сумма цифр также кратна семи.<br>"
   ]
  },
  {
   "cell_type": "code",
   "execution_count": null,
   "metadata": {},
   "outputs": [],
   "source": []
  }
 ],
 "metadata": {
  "kernelspec": {
   "display_name": "Python 3",
   "language": "python",
   "name": "python3"
  },
  "language_info": {
   "codemirror_mode": {
    "name": "ipython",
    "version": 3
   },
   "file_extension": ".py",
   "mimetype": "text/x-python",
   "name": "python",
   "nbconvert_exporter": "python",
   "pygments_lexer": "ipython3",
   "version": "3.7.4"
  }
 },
 "nbformat": 4,
 "nbformat_minor": 2
}
